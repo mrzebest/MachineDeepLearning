{
  "nbformat": 4,
  "nbformat_minor": 0,
  "metadata": {
    "colab": {
      "provenance": [],
      "authorship_tag": "ABX9TyOEq8+Lu7PKu8hFMRg1B3hg",
      "include_colab_link": true
    },
    "kernelspec": {
      "name": "python3",
      "display_name": "Python 3"
    },
    "language_info": {
      "name": "python"
    }
  },
  "cells": [
    {
      "cell_type": "markdown",
      "metadata": {
        "id": "view-in-github",
        "colab_type": "text"
      },
      "source": [
        "<a href=\"https://colab.research.google.com/github/mrzebest/MachineDeepLearning/blob/main/ReconnaissanceObjets.ipynb\" target=\"_parent\"><img src=\"https://colab.research.google.com/assets/colab-badge.svg\" alt=\"Open In Colab\"/></a>"
      ]
    },
    {
      "cell_type": "code",
      "source": [
        "# Librairies\n",
        "import os\n",
        "import pandas as pd\n",
        "from tensorflow.keras.preprocessing.image import ImageDataGenerator"
      ],
      "metadata": {
        "id": "NS_m1zKJg84a"
      },
      "execution_count": null,
      "outputs": []
    },
    {
      "cell_type": "code",
      "execution_count": null,
      "metadata": {
        "colab": {
          "base_uri": "https://localhost:8080/"
        },
        "id": "r4wIhVGQfIYZ",
        "outputId": "295564dd-9c28-48ac-9cf3-c443eae93fb0"
      },
      "outputs": [
        {
          "output_type": "stream",
          "name": "stdout",
          "text": [
            "Path to dataset files: /kaggle/input/food-image-classification-dataset\n"
          ]
        }
      ],
      "source": [
        "import kagglehub\n",
        "\n",
        "# Download latest version\n",
        "path = kagglehub.dataset_download(\"harishkumardatalab/food-image-classification-dataset\")\n",
        "\n",
        "print(\"Path to dataset files:\", path)"
      ]
    },
    {
      "cell_type": "code",
      "source": [
        "# Déclaration du chemin\n",
        "DATASET_PATH = './dataset'"
      ],
      "metadata": {
        "id": "_Mi85bOzfQDX"
      },
      "execution_count": null,
      "outputs": []
    },
    {
      "cell_type": "code",
      "source": [
        "\n",
        "!mkdir -p {DATASET_PATH} # Création du chemin\n",
        "\n",
        "!cp -r {path}/* {DATASET_PATH}/ # Attribution"
      ],
      "metadata": {
        "id": "88rsfWrwfenj"
      },
      "execution_count": null,
      "outputs": []
    },
    {
      "cell_type": "code",
      "source": [
        "# Chemin des dossiers racines\n",
        "base_dir = '/content/dataset/Food Classification dataset/'\n",
        "\n",
        "# Paramètres\n",
        "img_size = (64, 64)\n",
        "batch_size = 32\n",
        "\n",
        "# Création des générateurs d'images\n",
        "datagen = ImageDataGenerator(rescale=1./255)\n",
        "\n",
        "# Chargement des données depuis les répertoires\n",
        "def create_dataframe(directory, label):\n",
        "    generator = datagen.flow_from_directory(\n",
        "        directory,\n",
        "        target_size=img_size,\n",
        "        batch_size=batch_size,\n",
        "        class_mode=\"categorical\",\n",
        "        shuffle=False\n",
        "    )\n",
        "\n",
        "    filepaths = generator.filepaths\n",
        "    labels = generator.labels\n",
        "    df = pd.DataFrame({'image': filepaths, 'label': labels})\n",
        "    return df, generator"
      ],
      "metadata": {
        "id": "CQ9o1Gwrf62w"
      },
      "execution_count": null,
      "outputs": []
    },
    {
      "cell_type": "code",
      "source": [
        "df, generator = create_dataframe(base_dir,'label')\n",
        "\n",
        "print(df)"
      ],
      "metadata": {
        "colab": {
          "base_uri": "https://localhost:8080/"
        },
        "id": "U0oRKKbpkEAk",
        "outputId": "4f9dfe6a-aa05-4727-f6f4-3bf9fa2eba47"
      },
      "execution_count": null,
      "outputs": [
        {
          "output_type": "stream",
          "name": "stdout",
          "text": [
            "Found 23873 images belonging to 34 classes.\n",
            "                                                   image  label\n",
            "0      /content/dataset/Food Classification dataset/B...      0\n",
            "1      /content/dataset/Food Classification dataset/B...      0\n",
            "2      /content/dataset/Food Classification dataset/B...      0\n",
            "3      /content/dataset/Food Classification dataset/B...      0\n",
            "4      /content/dataset/Food Classification dataset/B...      0\n",
            "...                                                  ...    ...\n",
            "23868  /content/dataset/Food Classification dataset/s...     33\n",
            "23869  /content/dataset/Food Classification dataset/s...     33\n",
            "23870  /content/dataset/Food Classification dataset/s...     33\n",
            "23871  /content/dataset/Food Classification dataset/s...     33\n",
            "23872  /content/dataset/Food Classification dataset/s...     33\n",
            "\n",
            "[23873 rows x 2 columns]\n"
          ]
        }
      ]
    },
    {
      "cell_type": "code",
      "source": [
        "#Librairie nécessaire au chargement d'images\n",
        "from sklearn.model_selection import train_test_split\n",
        "from tensorflow.keras.utils import to_categorical\n",
        "from tensorflow.keras.preprocessing.image import load_img, img_to_array\n",
        "import numpy as np"
      ],
      "metadata": {
        "id": "Cj15bIHF2kNu"
      },
      "execution_count": null,
      "outputs": []
    },
    {
      "cell_type": "code",
      "source": [
        "# Convertir le dataframe en entrées, X rappelez vous, donc les vraies images loadées et non les paths, et y (labels)\n",
        "# Pour ce faire, on utilisera : load_img, et , img_to_array\n",
        "def load_images(df, img_size):\n",
        "    X = []\n",
        "    for path in df['image']:\n",
        "        img = load_img(path, target_size=img_size)\n",
        "        img_array = img_to_array(img) / 255.0\n",
        "        X.append(img_array)\n",
        "    return np.array(X)\n",
        "\n",
        "X = load_images(df, img_size)\n",
        "y = to_categorical(df['label'])\n",
        "\n",
        "# Séparation des données d'entrainement et des données de test, en utilisant une méthode de scickit learn\n",
        "X_train, X_val, y_train, y_val = train_test_split(X, y, test_size=0.2, stratify=df['label'], random_state=42)"
      ],
      "metadata": {
        "colab": {
          "base_uri": "https://localhost:8080/"
        },
        "id": "7Eqvrxxv2xyJ",
        "outputId": "11d29495-7c72-46af-e9c4-e08ab603eb9f"
      },
      "execution_count": null,
      "outputs": [
        {
          "output_type": "stream",
          "name": "stderr",
          "text": [
            "/usr/local/lib/python3.11/dist-packages/PIL/Image.py:1043: UserWarning: Palette images with Transparency expressed in bytes should be converted to RGBA images\n",
            "  warnings.warn(\n"
          ]
        }
      ]
    },
    {
      "cell_type": "code",
      "source": [
        "# Modélisation :\n",
        "from tensorflow.keras import models, layers\n",
        "\n",
        "model = models.Sequential([\n",
        "    # 1er bloc convolutionnel\n",
        "    layers.Conv2D(32, (3, 3), activation='relu', input_shape=(64, 64, 3)),  # 32 filtres 3x3 + fonction ReLU\n",
        "    layers.MaxPooling2D((2, 2)),  # Réduction de la taille par 2\n",
        "\n",
        "    # 2e bloc convolutionnel\n",
        "    layers.Conv2D(64, (3, 3), activation='relu'),  # 64 filtres 3x3\n",
        "    layers.MaxPooling2D((2, 2)),\n",
        "\n",
        "    # 3e bloc convolutionnel\n",
        "    layers.Conv2D(64, (3, 3), activation='relu'),\n",
        "\n",
        "    # Flatten + couches denses\n",
        "    layers.Flatten(),  # Aplatissement des cartes de caractéristiques\n",
        "    layers.Dense(64, activation='relu'),  # Couche dense avec 64 neurones\n",
        "    layers.Dense(34, activation='softmax')  # Couche de sortie : 34 classes → 34 scores (logits)\n",
        "])"
      ],
      "metadata": {
        "id": "QHDIGBdpFBG0"
      },
      "execution_count": null,
      "outputs": []
    },
    {
      "cell_type": "code",
      "source": [
        "# Compilation du modèle\n",
        "model.compile(optimizer='adam',  # Algorithme d’optimisation\n",
        "              loss='categorical_crossentropy',  # Fonction de perte pour classification multi-classe (pour les labels one-hot)\n",
        "              metrics=['accuracy'])  # Évaluation avec la précision\n",
        "\n",
        "# Affichage du résumé du modèle\n",
        "model.summary()"
      ],
      "metadata": {
        "colab": {
          "base_uri": "https://localhost:8080/",
          "height": 396
        },
        "id": "GExgtenoIHx9",
        "outputId": "f42b364f-c23f-486e-8541-e9c00ef2a3e1"
      },
      "execution_count": null,
      "outputs": [
        {
          "output_type": "display_data",
          "data": {
            "text/plain": [
              "\u001b[1mModel: \"sequential_1\"\u001b[0m\n"
            ],
            "text/html": [
              "<pre style=\"white-space:pre;overflow-x:auto;line-height:normal;font-family:Menlo,'DejaVu Sans Mono',consolas,'Courier New',monospace\"><span style=\"font-weight: bold\">Model: \"sequential_1\"</span>\n",
              "</pre>\n"
            ]
          },
          "metadata": {}
        },
        {
          "output_type": "display_data",
          "data": {
            "text/plain": [
              "┏━━━━━━━━━━━━━━━━━━━━━━━━━━━━━━━━━┳━━━━━━━━━━━━━━━━━━━━━━━━┳━━━━━━━━━━━━━━━┓\n",
              "┃\u001b[1m \u001b[0m\u001b[1mLayer (type)                   \u001b[0m\u001b[1m \u001b[0m┃\u001b[1m \u001b[0m\u001b[1mOutput Shape          \u001b[0m\u001b[1m \u001b[0m┃\u001b[1m \u001b[0m\u001b[1m      Param #\u001b[0m\u001b[1m \u001b[0m┃\n",
              "┡━━━━━━━━━━━━━━━━━━━━━━━━━━━━━━━━━╇━━━━━━━━━━━━━━━━━━━━━━━━╇━━━━━━━━━━━━━━━┩\n",
              "│ conv2d_3 (\u001b[38;5;33mConv2D\u001b[0m)               │ (\u001b[38;5;45mNone\u001b[0m, \u001b[38;5;34m62\u001b[0m, \u001b[38;5;34m62\u001b[0m, \u001b[38;5;34m32\u001b[0m)     │           \u001b[38;5;34m896\u001b[0m │\n",
              "├─────────────────────────────────┼────────────────────────┼───────────────┤\n",
              "│ max_pooling2d_2 (\u001b[38;5;33mMaxPooling2D\u001b[0m)  │ (\u001b[38;5;45mNone\u001b[0m, \u001b[38;5;34m31\u001b[0m, \u001b[38;5;34m31\u001b[0m, \u001b[38;5;34m32\u001b[0m)     │             \u001b[38;5;34m0\u001b[0m │\n",
              "├─────────────────────────────────┼────────────────────────┼───────────────┤\n",
              "│ conv2d_4 (\u001b[38;5;33mConv2D\u001b[0m)               │ (\u001b[38;5;45mNone\u001b[0m, \u001b[38;5;34m29\u001b[0m, \u001b[38;5;34m29\u001b[0m, \u001b[38;5;34m64\u001b[0m)     │        \u001b[38;5;34m18,496\u001b[0m │\n",
              "├─────────────────────────────────┼────────────────────────┼───────────────┤\n",
              "│ max_pooling2d_3 (\u001b[38;5;33mMaxPooling2D\u001b[0m)  │ (\u001b[38;5;45mNone\u001b[0m, \u001b[38;5;34m14\u001b[0m, \u001b[38;5;34m14\u001b[0m, \u001b[38;5;34m64\u001b[0m)     │             \u001b[38;5;34m0\u001b[0m │\n",
              "├─────────────────────────────────┼────────────────────────┼───────────────┤\n",
              "│ conv2d_5 (\u001b[38;5;33mConv2D\u001b[0m)               │ (\u001b[38;5;45mNone\u001b[0m, \u001b[38;5;34m12\u001b[0m, \u001b[38;5;34m12\u001b[0m, \u001b[38;5;34m64\u001b[0m)     │        \u001b[38;5;34m36,928\u001b[0m │\n",
              "├─────────────────────────────────┼────────────────────────┼───────────────┤\n",
              "│ flatten_1 (\u001b[38;5;33mFlatten\u001b[0m)             │ (\u001b[38;5;45mNone\u001b[0m, \u001b[38;5;34m9216\u001b[0m)           │             \u001b[38;5;34m0\u001b[0m │\n",
              "├─────────────────────────────────┼────────────────────────┼───────────────┤\n",
              "│ dense_2 (\u001b[38;5;33mDense\u001b[0m)                 │ (\u001b[38;5;45mNone\u001b[0m, \u001b[38;5;34m64\u001b[0m)             │       \u001b[38;5;34m589,888\u001b[0m │\n",
              "├─────────────────────────────────┼────────────────────────┼───────────────┤\n",
              "│ dense_3 (\u001b[38;5;33mDense\u001b[0m)                 │ (\u001b[38;5;45mNone\u001b[0m, \u001b[38;5;34m34\u001b[0m)             │         \u001b[38;5;34m2,210\u001b[0m │\n",
              "└─────────────────────────────────┴────────────────────────┴───────────────┘\n"
            ],
            "text/html": [
              "<pre style=\"white-space:pre;overflow-x:auto;line-height:normal;font-family:Menlo,'DejaVu Sans Mono',consolas,'Courier New',monospace\">┏━━━━━━━━━━━━━━━━━━━━━━━━━━━━━━━━━┳━━━━━━━━━━━━━━━━━━━━━━━━┳━━━━━━━━━━━━━━━┓\n",
              "┃<span style=\"font-weight: bold\"> Layer (type)                    </span>┃<span style=\"font-weight: bold\"> Output Shape           </span>┃<span style=\"font-weight: bold\">       Param # </span>┃\n",
              "┡━━━━━━━━━━━━━━━━━━━━━━━━━━━━━━━━━╇━━━━━━━━━━━━━━━━━━━━━━━━╇━━━━━━━━━━━━━━━┩\n",
              "│ conv2d_3 (<span style=\"color: #0087ff; text-decoration-color: #0087ff\">Conv2D</span>)               │ (<span style=\"color: #00d7ff; text-decoration-color: #00d7ff\">None</span>, <span style=\"color: #00af00; text-decoration-color: #00af00\">62</span>, <span style=\"color: #00af00; text-decoration-color: #00af00\">62</span>, <span style=\"color: #00af00; text-decoration-color: #00af00\">32</span>)     │           <span style=\"color: #00af00; text-decoration-color: #00af00\">896</span> │\n",
              "├─────────────────────────────────┼────────────────────────┼───────────────┤\n",
              "│ max_pooling2d_2 (<span style=\"color: #0087ff; text-decoration-color: #0087ff\">MaxPooling2D</span>)  │ (<span style=\"color: #00d7ff; text-decoration-color: #00d7ff\">None</span>, <span style=\"color: #00af00; text-decoration-color: #00af00\">31</span>, <span style=\"color: #00af00; text-decoration-color: #00af00\">31</span>, <span style=\"color: #00af00; text-decoration-color: #00af00\">32</span>)     │             <span style=\"color: #00af00; text-decoration-color: #00af00\">0</span> │\n",
              "├─────────────────────────────────┼────────────────────────┼───────────────┤\n",
              "│ conv2d_4 (<span style=\"color: #0087ff; text-decoration-color: #0087ff\">Conv2D</span>)               │ (<span style=\"color: #00d7ff; text-decoration-color: #00d7ff\">None</span>, <span style=\"color: #00af00; text-decoration-color: #00af00\">29</span>, <span style=\"color: #00af00; text-decoration-color: #00af00\">29</span>, <span style=\"color: #00af00; text-decoration-color: #00af00\">64</span>)     │        <span style=\"color: #00af00; text-decoration-color: #00af00\">18,496</span> │\n",
              "├─────────────────────────────────┼────────────────────────┼───────────────┤\n",
              "│ max_pooling2d_3 (<span style=\"color: #0087ff; text-decoration-color: #0087ff\">MaxPooling2D</span>)  │ (<span style=\"color: #00d7ff; text-decoration-color: #00d7ff\">None</span>, <span style=\"color: #00af00; text-decoration-color: #00af00\">14</span>, <span style=\"color: #00af00; text-decoration-color: #00af00\">14</span>, <span style=\"color: #00af00; text-decoration-color: #00af00\">64</span>)     │             <span style=\"color: #00af00; text-decoration-color: #00af00\">0</span> │\n",
              "├─────────────────────────────────┼────────────────────────┼───────────────┤\n",
              "│ conv2d_5 (<span style=\"color: #0087ff; text-decoration-color: #0087ff\">Conv2D</span>)               │ (<span style=\"color: #00d7ff; text-decoration-color: #00d7ff\">None</span>, <span style=\"color: #00af00; text-decoration-color: #00af00\">12</span>, <span style=\"color: #00af00; text-decoration-color: #00af00\">12</span>, <span style=\"color: #00af00; text-decoration-color: #00af00\">64</span>)     │        <span style=\"color: #00af00; text-decoration-color: #00af00\">36,928</span> │\n",
              "├─────────────────────────────────┼────────────────────────┼───────────────┤\n",
              "│ flatten_1 (<span style=\"color: #0087ff; text-decoration-color: #0087ff\">Flatten</span>)             │ (<span style=\"color: #00d7ff; text-decoration-color: #00d7ff\">None</span>, <span style=\"color: #00af00; text-decoration-color: #00af00\">9216</span>)           │             <span style=\"color: #00af00; text-decoration-color: #00af00\">0</span> │\n",
              "├─────────────────────────────────┼────────────────────────┼───────────────┤\n",
              "│ dense_2 (<span style=\"color: #0087ff; text-decoration-color: #0087ff\">Dense</span>)                 │ (<span style=\"color: #00d7ff; text-decoration-color: #00d7ff\">None</span>, <span style=\"color: #00af00; text-decoration-color: #00af00\">64</span>)             │       <span style=\"color: #00af00; text-decoration-color: #00af00\">589,888</span> │\n",
              "├─────────────────────────────────┼────────────────────────┼───────────────┤\n",
              "│ dense_3 (<span style=\"color: #0087ff; text-decoration-color: #0087ff\">Dense</span>)                 │ (<span style=\"color: #00d7ff; text-decoration-color: #00d7ff\">None</span>, <span style=\"color: #00af00; text-decoration-color: #00af00\">34</span>)             │         <span style=\"color: #00af00; text-decoration-color: #00af00\">2,210</span> │\n",
              "└─────────────────────────────────┴────────────────────────┴───────────────┘\n",
              "</pre>\n"
            ]
          },
          "metadata": {}
        },
        {
          "output_type": "display_data",
          "data": {
            "text/plain": [
              "\u001b[1m Total params: \u001b[0m\u001b[38;5;34m648,418\u001b[0m (2.47 MB)\n"
            ],
            "text/html": [
              "<pre style=\"white-space:pre;overflow-x:auto;line-height:normal;font-family:Menlo,'DejaVu Sans Mono',consolas,'Courier New',monospace\"><span style=\"font-weight: bold\"> Total params: </span><span style=\"color: #00af00; text-decoration-color: #00af00\">648,418</span> (2.47 MB)\n",
              "</pre>\n"
            ]
          },
          "metadata": {}
        },
        {
          "output_type": "display_data",
          "data": {
            "text/plain": [
              "\u001b[1m Trainable params: \u001b[0m\u001b[38;5;34m648,418\u001b[0m (2.47 MB)\n"
            ],
            "text/html": [
              "<pre style=\"white-space:pre;overflow-x:auto;line-height:normal;font-family:Menlo,'DejaVu Sans Mono',consolas,'Courier New',monospace\"><span style=\"font-weight: bold\"> Trainable params: </span><span style=\"color: #00af00; text-decoration-color: #00af00\">648,418</span> (2.47 MB)\n",
              "</pre>\n"
            ]
          },
          "metadata": {}
        },
        {
          "output_type": "display_data",
          "data": {
            "text/plain": [
              "\u001b[1m Non-trainable params: \u001b[0m\u001b[38;5;34m0\u001b[0m (0.00 B)\n"
            ],
            "text/html": [
              "<pre style=\"white-space:pre;overflow-x:auto;line-height:normal;font-family:Menlo,'DejaVu Sans Mono',consolas,'Courier New',monospace\"><span style=\"font-weight: bold\"> Non-trainable params: </span><span style=\"color: #00af00; text-decoration-color: #00af00\">0</span> (0.00 B)\n",
              "</pre>\n"
            ]
          },
          "metadata": {}
        }
      ]
    },
    {
      "cell_type": "code",
      "source": [
        "# Entraînement du modèle (fit)\n",
        "history = model.fit(X_train, y_train, epochs=10,  # Nombre d'époques\n",
        "                    validation_data=(X_val, y_val))  # Validation sur données de test\n"
      ],
      "metadata": {
        "colab": {
          "base_uri": "https://localhost:8080/"
        },
        "id": "U0SWN-C-ITDa",
        "outputId": "35dc4cb4-4339-46d4-f16e-9c87091e8bd3"
      },
      "execution_count": null,
      "outputs": [
        {
          "output_type": "stream",
          "name": "stdout",
          "text": [
            "Epoch 1/10\n",
            "\u001b[1m597/597\u001b[0m \u001b[32m━━━━━━━━━━━━━━━━━━━━\u001b[0m\u001b[37m\u001b[0m \u001b[1m111s\u001b[0m 186ms/step - accuracy: 0.5965 - loss: 1.3400 - val_accuracy: 0.3468 - val_loss: 2.5689\n",
            "Epoch 2/10\n",
            "\u001b[1m597/597\u001b[0m \u001b[32m━━━━━━━━━━━━━━━━━━━━\u001b[0m\u001b[37m\u001b[0m \u001b[1m141s\u001b[0m 185ms/step - accuracy: 0.6546 - loss: 1.1502 - val_accuracy: 0.3520 - val_loss: 2.8226\n",
            "Epoch 3/10\n",
            "\u001b[1m597/597\u001b[0m \u001b[32m━━━━━━━━━━━━━━━━━━━━\u001b[0m\u001b[37m\u001b[0m \u001b[1m114s\u001b[0m 191ms/step - accuracy: 0.7192 - loss: 0.9397 - val_accuracy: 0.3399 - val_loss: 3.0256\n",
            "Epoch 4/10\n",
            "\u001b[1m597/597\u001b[0m \u001b[32m━━━━━━━━━━━━━━━━━━━━\u001b[0m\u001b[37m\u001b[0m \u001b[1m138s\u001b[0m 185ms/step - accuracy: 0.7703 - loss: 0.7706 - val_accuracy: 0.3447 - val_loss: 3.2998\n",
            "Epoch 5/10\n",
            "\u001b[1m597/597\u001b[0m \u001b[32m━━━━━━━━━━━━━━━━━━━━\u001b[0m\u001b[37m\u001b[0m \u001b[1m143s\u001b[0m 186ms/step - accuracy: 0.8112 - loss: 0.6308 - val_accuracy: 0.3332 - val_loss: 3.6751\n",
            "Epoch 6/10\n",
            "\u001b[1m597/597\u001b[0m \u001b[32m━━━━━━━━━━━━━━━━━━━━\u001b[0m\u001b[37m\u001b[0m \u001b[1m107s\u001b[0m 179ms/step - accuracy: 0.8543 - loss: 0.4785 - val_accuracy: 0.3271 - val_loss: 4.1707\n",
            "Epoch 7/10\n",
            "\u001b[1m597/597\u001b[0m \u001b[32m━━━━━━━━━━━━━━━━━━━━\u001b[0m\u001b[37m\u001b[0m \u001b[1m144s\u001b[0m 182ms/step - accuracy: 0.8835 - loss: 0.3870 - val_accuracy: 0.3355 - val_loss: 4.4052\n",
            "Epoch 8/10\n",
            "\u001b[1m597/597\u001b[0m \u001b[32m━━━━━━━━━━━━━━━━━━━━\u001b[0m\u001b[37m\u001b[0m \u001b[1m144s\u001b[0m 186ms/step - accuracy: 0.9138 - loss: 0.2899 - val_accuracy: 0.3137 - val_loss: 5.1521\n",
            "Epoch 9/10\n",
            "\u001b[1m597/597\u001b[0m \u001b[32m━━━━━━━━━━━━━━━━━━━━\u001b[0m\u001b[37m\u001b[0m \u001b[1m142s\u001b[0m 186ms/step - accuracy: 0.9199 - loss: 0.2711 - val_accuracy: 0.3150 - val_loss: 5.1416\n",
            "Epoch 10/10\n",
            "\u001b[1m597/597\u001b[0m \u001b[32m━━━━━━━━━━━━━━━━━━━━\u001b[0m\u001b[37m\u001b[0m \u001b[1m143s\u001b[0m 188ms/step - accuracy: 0.9372 - loss: 0.2045 - val_accuracy: 0.3248 - val_loss: 5.9520\n"
          ]
        }
      ]
    },
    {
      "cell_type": "code",
      "source": [
        "from sklearn.metrics import classification_report\n",
        "\n",
        "# Évaluation sur les données de test\n",
        "y_pred = (model.predict(X_val) > 0.5).astype(\"int32\")\n",
        "print(classification_report(y_val, y_pred))"
      ],
      "metadata": {
        "colab": {
          "base_uri": "https://localhost:8080/"
        },
        "id": "DgeLC58HTIT5",
        "outputId": "0b1e626f-a48c-4a61-faee-c5b5c72a4c2a"
      },
      "execution_count": null,
      "outputs": [
        {
          "output_type": "stream",
          "name": "stdout",
          "text": [
            "\u001b[1m150/150\u001b[0m \u001b[32m━━━━━━━━━━━━━━━━━━━━\u001b[0m\u001b[37m\u001b[0m \u001b[1m8s\u001b[0m 50ms/step\n",
            "              precision    recall  f1-score   support\n",
            "\n",
            "           0       0.40      0.44      0.42       300\n",
            "           1       0.40      0.35      0.38       300\n",
            "           2       0.57      0.54      0.56       300\n",
            "           3       0.55      0.42      0.48       300\n",
            "           4       0.48      0.43      0.45       310\n",
            "           5       0.34      0.35      0.35       300\n",
            "           6       0.31      0.20      0.24       300\n",
            "           7       0.22      0.35      0.27       300\n",
            "           8       0.24      0.21      0.22       200\n",
            "           9       0.32      0.15      0.21        66\n",
            "          10       0.28      0.11      0.16        61\n",
            "          11       0.19      0.14      0.16        69\n",
            "          12       0.26      0.22      0.24        65\n",
            "          13       0.43      0.40      0.41       200\n",
            "          14       0.39      0.34      0.36       200\n",
            "          15       0.30      0.23      0.26        75\n",
            "          16       0.61      0.32      0.42        59\n",
            "          17       0.19      0.14      0.16        49\n",
            "          18       0.55      0.30      0.39        70\n",
            "          19       0.23      0.23      0.23       200\n",
            "          20       0.31      0.40      0.35        60\n",
            "          21       0.42      0.14      0.21        58\n",
            "          22       0.17      0.12      0.14        56\n",
            "          23       0.44      0.25      0.32        67\n",
            "          24       0.15      0.09      0.11        43\n",
            "          25       0.10      0.07      0.08        54\n",
            "          26       0.17      0.14      0.15        65\n",
            "          27       0.26      0.24      0.25       200\n",
            "          28       0.17      0.07      0.10        29\n",
            "          29       0.16      0.09      0.12        54\n",
            "          30       0.52      0.18      0.27        61\n",
            "          31       0.36      0.15      0.21        55\n",
            "          32       0.08      0.10      0.09        49\n",
            "          33       0.26      0.23      0.25       200\n",
            "\n",
            "   micro avg       0.35      0.31      0.33      4775\n",
            "   macro avg       0.32      0.24      0.27      4775\n",
            "weighted avg       0.36      0.31      0.32      4775\n",
            " samples avg       0.31      0.31      0.31      4775\n",
            "\n"
          ]
        },
        {
          "output_type": "stream",
          "name": "stderr",
          "text": [
            "/usr/local/lib/python3.11/dist-packages/sklearn/metrics/_classification.py:1565: UndefinedMetricWarning: Precision is ill-defined and being set to 0.0 in samples with no predicted labels. Use `zero_division` parameter to control this behavior.\n",
            "  _warn_prf(average, modifier, f\"{metric.capitalize()} is\", len(result))\n"
          ]
        }
      ]
    },
    {
      "cell_type": "code",
      "source": [
        "# Test de prédiction sur une image personnalisée\n",
        "\n",
        "from tensorflow.keras.preprocessing.image import load_img, img_to_array\n",
        "\n",
        "def load_and_predict_image(image_path, img_size):\n",
        "\n",
        "    img = load_img(image_path, target_size=img_size)\n",
        "    img_array = img_to_array(img) / 255.0\n",
        "    img_array = np.expand_dims(img_array, axis=0)\n",
        "\n",
        "    # Prédiction\n",
        "    predictions = model.predict(img_array)\n",
        "\n",
        "    # indice de classe prédite\n",
        "    predicted_class = np.argmax(predictions, axis=1)\n",
        "\n",
        "    # nom de la classe\n",
        "    class_labels = list(generator.class_indices.keys())\n",
        "    predicted_label = class_labels[predicted_class[0]]\n",
        "\n",
        "    print(f\"Image prédite comme étant de la classe : {predicted_label}\")\n",
        "\n",
        "\n",
        "image_path = \"/content/dataset/ImageTest/Glazed-Donut.jpg\"\n",
        "load_and_predict_image(image_path, img_size)"
      ],
      "metadata": {
        "colab": {
          "base_uri": "https://localhost:8080/"
        },
        "id": "XD0gzwBfTquU",
        "outputId": "b0f3be67-65a7-40c4-9ab9-5f8ba5453681"
      },
      "execution_count": null,
      "outputs": [
        {
          "output_type": "stream",
          "name": "stdout",
          "text": [
            "\u001b[1m1/1\u001b[0m \u001b[32m━━━━━━━━━━━━━━━━━━━━\u001b[0m\u001b[37m\u001b[0m \u001b[1m0s\u001b[0m 73ms/step\n",
            "Image prédite comme étant de la classe : Donut\n"
          ]
        }
      ]
    }
  ]
}